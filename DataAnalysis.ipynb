{
 "cells": [
  {
   "cell_type": "code",
   "execution_count": 1,
   "id": "8af86aec-75e4-4aee-b79c-83a98cd5fa0c",
   "metadata": {},
   "outputs": [],
   "source": [
    "import os\n",
    "import urllib\n",
    "\n",
    "import pandas as pd\n",
    "import numpy as np\n",
    "\n",
    "import matplotlib.pyplot as plt\n",
    "import tensorflow as tf\n",
    "\n",
    "from bs4 import BeautifulSoup"
   ]
  },
  {
   "cell_type": "markdown",
   "id": "02d8ec9b-dbc9-4b7a-a931-f7f9a93808c3",
   "metadata": {
    "tags": []
   },
   "source": [
    "### Get data"
   ]
  },
  {
   "cell_type": "code",
   "execution_count": 2,
   "id": "d3eb62a0-0248-46d6-906e-7ed6baf6d318",
   "metadata": {},
   "outputs": [
    {
     "data": {
      "text/html": [
       "<div>\n",
       "<style scoped>\n",
       "    .dataframe tbody tr th:only-of-type {\n",
       "        vertical-align: middle;\n",
       "    }\n",
       "\n",
       "    .dataframe tbody tr th {\n",
       "        vertical-align: top;\n",
       "    }\n",
       "\n",
       "    .dataframe thead th {\n",
       "        text-align: right;\n",
       "    }\n",
       "</style>\n",
       "<table border=\"1\" class=\"dataframe\">\n",
       "  <thead>\n",
       "    <tr style=\"text-align: right;\">\n",
       "      <th></th>\n",
       "      <th></th>\n",
       "      <th>longitude</th>\n",
       "      <th>latitude</th>\n",
       "    </tr>\n",
       "  </thead>\n",
       "  <tbody>\n",
       "    <tr>\n",
       "      <th rowspan=\"2\" valign=\"top\">airplane</th>\n",
       "      <th>1001224523.jpg</th>\n",
       "      <td>31.349944</td>\n",
       "      <td>-105.928990</td>\n",
       "    </tr>\n",
       "    <tr>\n",
       "      <th>10030517043.jpg</th>\n",
       "      <td>43.123688</td>\n",
       "      <td>-77.623395</td>\n",
       "    </tr>\n",
       "  </tbody>\n",
       "</table>\n",
       "</div>"
      ],
      "text/plain": [
       "                          longitude    latitude\n",
       "airplane 1001224523.jpg   31.349944 -105.928990\n",
       "         10030517043.jpg  43.123688  -77.623395"
      ]
     },
     "execution_count": 2,
     "metadata": {},
     "output_type": "execute_result"
    }
   ],
   "source": [
    "coordinates = pd.read_csv('data/photo2gps.txt', header=None, delimiter=' ', names=['longitude', 'latitude'], index_col=0)\n",
    "coordinates.index = coordinates.index.map(lambda s: tuple(s.split('/')))\n",
    "coordinates.head(2)"
   ]
  },
  {
   "cell_type": "code",
   "execution_count": 3,
   "id": "4b26ea9b-f1fd-4b4b-a3ee-98dfb283d93f",
   "metadata": {},
   "outputs": [
    {
     "data": {
      "text/html": [
       "<div>\n",
       "<style scoped>\n",
       "    .dataframe tbody tr th:only-of-type {\n",
       "        vertical-align: middle;\n",
       "    }\n",
       "\n",
       "    .dataframe tbody tr th {\n",
       "        vertical-align: top;\n",
       "    }\n",
       "\n",
       "    .dataframe thead th {\n",
       "        text-align: right;\n",
       "    }\n",
       "</style>\n",
       "<table border=\"1\" class=\"dataframe\">\n",
       "  <thead>\n",
       "    <tr style=\"text-align: right;\">\n",
       "      <th></th>\n",
       "      <th>link</th>\n",
       "    </tr>\n",
       "  </thead>\n",
       "  <tbody>\n",
       "    <tr>\n",
       "      <th>43398</th>\n",
       "      <td>https://www.flickr.com/photos/george/43398/</td>\n",
       "    </tr>\n",
       "    <tr>\n",
       "      <th>58665</th>\n",
       "      <td>https://www.flickr.com/photos/swanksalot/58665/</td>\n",
       "    </tr>\n",
       "  </tbody>\n",
       "</table>\n",
       "</div>"
      ],
      "text/plain": [
       "                                                  link\n",
       "43398      https://www.flickr.com/photos/george/43398/\n",
       "58665  https://www.flickr.com/photos/swanksalot/58665/"
      ]
     },
     "execution_count": 3,
     "metadata": {},
     "output_type": "execute_result"
    }
   ],
   "source": [
    "urls = pd.read_csv('data/gps_urls.txt', header=None, delimiter=' ', names=['link'])\n",
    "urls.head(2)"
   ]
  },
  {
   "cell_type": "code",
   "execution_count": 4,
   "id": "345e92cd-bd28-43ba-ae65-df9d4cc7d5e3",
   "metadata": {},
   "outputs": [],
   "source": [
    "def get_tags(url):\n",
    "    tags = []\n",
    "    try:\n",
    "        u2 = urllib.request.urlopen(url)  \n",
    "        soup = BeautifulSoup(u2)\n",
    "\n",
    "#     for image_src in soup.find_all(\"title\"):\n",
    "#         title = image_src\n",
    "\n",
    "        for image_src in soup.find_all(\"meta\"):\n",
    "            if image_src.get('name') == 'keywords':\n",
    "                tags = image_src.get('content').split(', ')\n",
    "    except:\n",
    "        tags = []\n",
    "    return tags"
   ]
  },
  {
   "cell_type": "code",
   "execution_count": 5,
   "id": "33468b38-5e60-4fb7-8bb7-042179b50216",
   "metadata": {},
   "outputs": [],
   "source": [
    "import tqdm.notebook as tqdm\n",
    "import dask.dataframe as dd"
   ]
  },
  {
   "cell_type": "code",
   "execution_count": 6,
   "id": "8a1f964b-1c5c-4ce7-9239-ac1d268f0ac6",
   "metadata": {},
   "outputs": [
    {
     "data": {
      "text/plain": [
       "32"
      ]
     },
     "execution_count": 6,
     "metadata": {},
     "output_type": "execute_result"
    }
   ],
   "source": [
    "import multiprocessing\n",
    "\n",
    "multiprocessing.cpu_count()"
   ]
  },
  {
   "cell_type": "code",
   "execution_count": 12,
   "id": "3a8354e1-0a03-4da9-a591-29cd687a5535",
   "metadata": {},
   "outputs": [],
   "source": [
    "def split_dataframe(df, starting_chunk=0, chunk_size = 10000): \n",
    "    chunk = None\n",
    "    num_chunks = len(df) // chunk_size + 1\n",
    "    for i in np.arange(starting_chunk, num_chunks):\n",
    "        chunk = df.iloc[i*chunk_size:(i+1)*chunk_size]\n",
    "        yield chunk"
   ]
  },
  {
   "cell_type": "code",
   "execution_count": 13,
   "id": "acdf7b3a-6e5f-4007-b528-6cf892ee4abb",
   "metadata": {},
   "outputs": [],
   "source": [
    "from dask.diagnostics import ProgressBar\n",
    "ProgressBar().register()"
   ]
  },
  {
   "cell_type": "code",
   "execution_count": 15,
   "id": "39bfb2e9-0d75-48cd-8ee4-2e8461c88298",
   "metadata": {},
   "outputs": [
    {
     "data": {
      "application/vnd.jupyter.widget-view+json": {
       "model_id": "424dfcfd5a6145ecaa7c3bf9f6deb00e",
       "version_major": 2,
       "version_minor": 0
      },
      "text/plain": [
       "0it [00:00, ?it/s]"
      ]
     },
     "metadata": {},
     "output_type": "display_data"
    }
   ],
   "source": [
    "for i, chunk in tqdm.tqdm(enumerate(split_dataframe(urls, 0, 1000))):\n",
    "    tagged_chunk = chunk.link.map(get_tags)\n",
    "    tagged_chunk.to_csv(f'tags/chunk_{i}')"
   ]
  },
  {
   "cell_type": "code",
   "execution_count": null,
   "id": "5448da01-c337-4707-a7a8-0be2ba67dd60",
   "metadata": {},
   "outputs": [],
   "source": []
  }
 ],
 "metadata": {
  "kernelspec": {
   "display_name": "Python 3 (ipykernel)",
   "language": "python",
   "name": "python3"
  },
  "language_info": {
   "codemirror_mode": {
    "name": "ipython",
    "version": 3
   },
   "file_extension": ".py",
   "mimetype": "text/x-python",
   "name": "python",
   "nbconvert_exporter": "python",
   "pygments_lexer": "ipython3",
   "version": "3.9.6"
  },
  "pycharm": {
   "stem_cell": {
    "cell_type": "raw",
    "source": [],
    "metadata": {
     "collapsed": false
    }
   }
  }
 },
 "nbformat": 4,
 "nbformat_minor": 5
}